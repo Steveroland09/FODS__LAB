{
 "cells": [
  {
   "cell_type": "code",
   "execution_count": 1,
   "id": "63206d9e-2639-4e2d-89f3-0877e9174a43",
   "metadata": {},
   "outputs": [],
   "source": [
    "import pandas as pd\n",
    "student_data = pd.DataFrame({\n",
    "    'Name': ['Alice', 'Bob', 'Charlie', 'David', 'Eva'],\n",
    "    'Age': [23, 25, 22, 24, 23],\n",
    "    'Gender': ['F', 'M', 'M', 'M', 'F'],\n",
    "    'Score': [85, 78, 92, 70, 88]\n",
    "})"
   ]
  },
  {
   "cell_type": "code",
   "execution_count": 3,
   "id": "aea0bb94-ed9f-4f41-92a2-719212064422",
   "metadata": {},
   "outputs": [
    {
     "name": "stdout",
     "output_type": "stream",
     "text": [
      "First three rows:\n",
      "      Name  Age Gender  Score\n",
      "0    Alice   23      F     85\n",
      "1      Bob   25      M     78\n",
      "2  Charlie   22      M     92\n"
     ]
    }
   ],
   "source": [
    "first_three_rows = student_data.head(3)\n",
    "print(\"First three rows:\")\n",
    "print(first_three_rows)\n"
   ]
  },
  {
   "cell_type": "code",
   "execution_count": 5,
   "id": "b1d2716c-850f-49cf-9718-bf8fdb68527c",
   "metadata": {},
   "outputs": [
    {
     "name": "stdout",
     "output_type": "stream",
     "text": [
      "\n",
      "Rows where 'Gender' is 'F':\n",
      "    Name  Age Gender  Score\n",
      "0  Alice   23      F     85\n",
      "4    Eva   23      F     88\n"
     ]
    }
   ],
   "source": [
    "gender_f_rows = student_data[student_data['Gender'] == 'F']\n",
    "print(\"\\nRows where 'Gender' is 'F':\")\n",
    "print(gender_f_rows)\n"
   ]
  },
  {
   "cell_type": "code",
   "execution_count": 7,
   "id": "9e8a98ef-704e-4be1-9b73-6465c5c3acbb",
   "metadata": {},
   "outputs": [
    {
     "name": "stdout",
     "output_type": "stream",
     "text": [
      "\n",
      "DataFrame after adding Score1 and Score2 columns:\n",
      "      Name  Age Gender  Score  Score1  Score2\n",
      "0    Alice   23      F     85      85      85\n",
      "1      Bob   25      M     78      78      78\n",
      "2  Charlie   22      M     92      92      92\n",
      "3    David   24      M     70      70      70\n",
      "4      Eva   23      F     88      88      88\n"
     ]
    }
   ],
   "source": [
    "student_data['Score1'] = student_data['Score']\n",
    "student_data['Score2'] = student_data['Score']\n",
    "print(\"\\nDataFrame after adding Score1 and Score2 columns:\")\n",
    "print(student_data)"
   ]
  },
  {
   "cell_type": "code",
   "execution_count": 9,
   "id": "8977a1a3-34e4-4535-b8a2-fad2d68da8d2",
   "metadata": {},
   "outputs": [
    {
     "name": "stdout",
     "output_type": "stream",
     "text": [
      "\n",
      "DataFrame after adding Age1 column:\n",
      "      Name  Age Gender  Score  Score1  Score2  Age1\n",
      "0    Alice   23      F     85      85      85    23\n",
      "1      Bob   25      M     78      78      78    25\n",
      "2  Charlie   22      M     92      92      92    22\n",
      "3    David   24      M     70      70      70    24\n",
      "4      Eva   23      F     88      88      88    23\n"
     ]
    }
   ],
   "source": [
    "student_data['Age1'] = student_data['Age']\n",
    "print(\"\\nDataFrame after adding Age1 column:\")\n",
    "print(student_data)\n"
   ]
  },
  {
   "cell_type": "code",
   "execution_count": 11,
   "id": "9a5677e8-0cde-4ead-b53a-74b9f302bab2",
   "metadata": {},
   "outputs": [
    {
     "name": "stdout",
     "output_type": "stream",
     "text": [
      "\n",
      "DataFrame after dropping Age1 column:\n",
      "      Name  Age Gender  Score  Score1  Score2\n",
      "0    Alice   23      F     85      85      85\n",
      "1      Bob   25      M     78      78      78\n",
      "2  Charlie   22      M     92      92      92\n",
      "3    David   24      M     70      70      70\n",
      "4      Eva   23      F     88      88      88\n"
     ]
    }
   ],
   "source": [
    "student_data = student_data.drop(columns=['Age1'])\n",
    "print(\"\\nDataFrame after dropping Age1 column:\")\n",
    "print(student_data)"
   ]
  },
  {
   "cell_type": "code",
   "execution_count": 13,
   "id": "0f583fa0-9ae1-467f-8c29-11e8ae510ab7",
   "metadata": {},
   "outputs": [
    {
     "name": "stdout",
     "output_type": "stream",
     "text": [
      "\n",
      "DataFrame after dropping Score1 and Score2 columns:\n",
      "      Name  Age Gender  Score\n",
      "0    Alice   23      F     85\n",
      "1      Bob   25      M     78\n",
      "2  Charlie   22      M     92\n",
      "3    David   24      M     70\n",
      "4      Eva   23      F     88\n"
     ]
    }
   ],
   "source": [
    "student_data = student_data.drop(columns=['Score1', 'Score2'])\n",
    "print(\"\\nDataFrame after dropping Score1 and Score2 columns:\")\n",
    "print(student_data)"
   ]
  },
  {
   "cell_type": "code",
   "execution_count": 15,
   "id": "a535cf9a-6443-4786-acd3-9fafb46dde91",
   "metadata": {},
   "outputs": [
    {
     "name": "stdout",
     "output_type": "stream",
     "text": [
      "\n",
      "DataFrame after dropping the row at index 3:\n",
      "      Name  Age Gender  Score\n",
      "0    Alice   23      F     85\n",
      "1      Bob   25      M     78\n",
      "2  Charlie   22      M     92\n",
      "4      Eva   23      F     88\n"
     ]
    }
   ],
   "source": [
    "student_data = student_data.drop(index=3)\n",
    "print(\"\\nDataFrame after dropping the row at index 3:\")\n",
    "print(student_data)\n"
   ]
  },
  {
   "cell_type": "code",
   "execution_count": 17,
   "id": "cbfc38f2-d1a6-4a89-8e7f-629d3fdb2d03",
   "metadata": {},
   "outputs": [
    {
     "name": "stdout",
     "output_type": "stream",
     "text": [
      "\n",
      "Rows where 'Gender' is 'F' and 'Score' is greater than 85:\n",
      "  Name  Age Gender  Score\n",
      "4  Eva   23      F     88\n"
     ]
    }
   ],
   "source": [
    "gender_f_score_above_85 = student_data[(student_data['Gender'] == 'F') & (student_data['Score'] > 85)]\n",
    "print(\"\\nRows where 'Gender' is 'F' and 'Score' is greater than 85:\")\n",
    "print(gender_f_score_above_85)"
   ]
  },
  {
   "cell_type": "code",
   "execution_count": 19,
   "id": "be5da7b2-9cea-46be-910a-8145fdb997ed",
   "metadata": {},
   "outputs": [
    {
     "name": "stdout",
     "output_type": "stream",
     "text": [
      "\n",
      "DataFrame sorted by 'Score' in descending order:\n",
      "      Name  Age Gender  Score\n",
      "2  Charlie   22      M     92\n",
      "4      Eva   23      F     88\n",
      "0    Alice   23      F     85\n",
      "1      Bob   25      M     78\n"
     ]
    }
   ],
   "source": [
    "sorted_student_data = student_data.sort_values(by='Score', ascending=False)\n",
    "print(\"\\nDataFrame sorted by 'Score' in descending order:\")\n",
    "print(sorted_student_data)"
   ]
  },
  {
   "cell_type": "code",
   "execution_count": 25,
   "id": "85158896-1945-44eb-8339-eb9e34cae65a",
   "metadata": {},
   "outputs": [
    {
     "name": "stdout",
     "output_type": "stream",
     "text": [
      "\n",
      "DataFrame after adding 'Grade' column:\n",
      "      Name  Age Gender  Score Grade\n",
      "0    Alice   23      F     85     B\n",
      "1      Bob   25      M     78     C\n",
      "2  Charlie   22      M     92     A\n",
      "4      Eva   23      F     88     B\n"
     ]
    }
   ],
   "source": [
    "def grade(score):\n",
    "    if score >= 90:\n",
    "        return 'A'\n",
    "    elif score >= 80:\n",
    "        return 'B'\n",
    "    elif score >= 70:\n",
    "        return 'C'\n",
    "    else:\n",
    "        return 'D'\n",
    "\n",
    "student_data['Grade'] = student_data['Score'].apply(grade)\n",
    "print(\"\\nDataFrame after adding 'Grade' column:\")\n",
    "print(student_data)"
   ]
  },
  {
   "cell_type": "code",
   "execution_count": 27,
   "id": "f3b64787-e8e6-4912-943a-83057c7f93f3",
   "metadata": {},
   "outputs": [],
   "source": [
    "sales_data = pd.DataFrame({\n",
    "    'Month': ['Jan', 'Feb', 'Mar', 'Jan', 'Feb', 'Mar'],\n",
    "    'Product': ['A', 'A', 'A', 'B', 'B', 'B'],\n",
    "    'Sales': [150, 200, 250, 300, 400, 500]\n",
    "})"
   ]
  },
  {
   "cell_type": "code",
   "execution_count": 29,
   "id": "6afc28e5-bba1-446a-b4eb-af8db282fd68",
   "metadata": {},
   "outputs": [
    {
     "name": "stdout",
     "output_type": "stream",
     "text": [
      "Total Sales by Product:\n",
      "Product\n",
      "A     600\n",
      "B    1200\n",
      "Name: Sales, dtype: int64\n"
     ]
    }
   ],
   "source": [
    "total_sales_by_product = sales_data.groupby('Product')['Sales'].sum()\n",
    "print(\"Total Sales by Product:\")\n",
    "print(total_sales_by_product)"
   ]
  },
  {
   "cell_type": "code",
   "execution_count": 31,
   "id": "cd28669b-1c89-4e90-9bf9-fb34a25509b7",
   "metadata": {},
   "outputs": [
    {
     "name": "stdout",
     "output_type": "stream",
     "text": [
      "\n",
      "Month with the highest sales for each product:\n",
      "  Month Product  Sales\n",
      "2   Mar       A    250\n",
      "5   Mar       B    500\n"
     ]
    }
   ],
   "source": [
    "highest_sales_month_by_product = sales_data.loc[sales_data.groupby('Product')['Sales'].idxmax()]\n",
    "print(\"\\nMonth with the highest sales for each product:\")\n",
    "print(highest_sales_month_by_product)"
   ]
  },
  {
   "cell_type": "code",
   "execution_count": 35,
   "id": "7211748f-9aee-4648-a168-44649532c1f7",
   "metadata": {},
   "outputs": [],
   "source": [
    "sales_data['Total_Sales_By_Product'] = sales_data.groupby('Product')['Sales'].transform('sum')\n",
    "sales_data['Sales_Percentage'] = (sales_data['Sales'] / sales_data['Total_Sales_By_Product']) * 100"
   ]
  },
  {
   "cell_type": "code",
   "execution_count": 37,
   "id": "48c36c2b-24fe-4353-9921-91ebdfe0e439",
   "metadata": {},
   "outputs": [],
   "source": [
    "sales_data = sales_data.drop(columns=['Total_Sales_By_Product'])"
   ]
  },
  {
   "cell_type": "code",
   "execution_count": 39,
   "id": "1d90eb8b-967b-4461-87a9-ad86f58c6a0c",
   "metadata": {},
   "outputs": [
    {
     "name": "stdout",
     "output_type": "stream",
     "text": [
      "\n",
      "Sales Data with Sales_Percentage:\n",
      "  Month Product  Sales  Sales_Percentage\n",
      "0   Jan       A    150         25.000000\n",
      "1   Feb       A    200         33.333333\n",
      "2   Mar       A    250         41.666667\n",
      "3   Jan       B    300         25.000000\n",
      "4   Feb       B    400         33.333333\n",
      "5   Mar       B    500         41.666667\n"
     ]
    }
   ],
   "source": [
    "print(\"\\nSales Data with Sales_Percentage:\")\n",
    "print(sales_data)"
   ]
  },
  {
   "cell_type": "code",
   "execution_count": null,
   "id": "41801326-f643-4247-a440-397f07f1146a",
   "metadata": {},
   "outputs": [],
   "source": []
  }
 ],
 "metadata": {
  "kernelspec": {
   "display_name": "Python 3 (ipykernel)",
   "language": "python",
   "name": "python3"
  },
  "language_info": {
   "codemirror_mode": {
    "name": "ipython",
    "version": 3
   },
   "file_extension": ".py",
   "mimetype": "text/x-python",
   "name": "python",
   "nbconvert_exporter": "python",
   "pygments_lexer": "ipython3",
   "version": "3.12.4"
  }
 },
 "nbformat": 4,
 "nbformat_minor": 5
}
